{
 "cells": [
  {
   "cell_type": "code",
   "execution_count": 1,
   "metadata": {},
   "outputs": [
    {
     "name": "stdout",
     "output_type": "stream",
     "text": [
      "Warning: Quantization failed with error: Didn't find engine for operation quantized::linear_prepack NoQEngine\n",
      "Proceeding with only pruning...\n",
      "{'original': {'accuracy': 5.53, 'inference_time': 0.20288334226911994}, 'compressed': {'accuracy': 8.05, 'inference_time': 0.19577179744744758}}\n"
     ]
    }
   ],
   "source": [
    "from datasets.load_data import load_mnist\n",
    "from models.pretrained_resnet import load_resnet18\n",
    "from compression_tool.benchmarking import benchmark_compression\n",
    "\n",
    "# Load dataset\n",
    "train_loader, test_loader = load_mnist()\n",
    "\n",
    "# Load model\n",
    "model = load_resnet18()\n",
    "\n",
    "# Run benchmarks\n",
    "results = benchmark_compression(model, test_loader)\n",
    "print(results)"
   ]
  },
  {
   "cell_type": "code",
   "execution_count": null,
   "metadata": {},
   "outputs": [],
   "source": []
  }
 ],
 "metadata": {
  "kernelspec": {
   "display_name": "venv",
   "language": "python",
   "name": "python3"
  },
  "language_info": {
   "codemirror_mode": {
    "name": "ipython",
    "version": 3
   },
   "file_extension": ".py",
   "mimetype": "text/x-python",
   "name": "python",
   "nbconvert_exporter": "python",
   "pygments_lexer": "ipython3",
   "version": "3.10.14"
  }
 },
 "nbformat": 4,
 "nbformat_minor": 2
}
